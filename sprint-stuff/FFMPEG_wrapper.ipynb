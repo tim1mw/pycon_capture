{
 "cells": [
  {
   "cell_type": "markdown",
   "metadata": {
    "colab_type": "text",
    "id": "DTvjd1xoErCa"
   },
   "source": [
    "## FFMPEG wrapper\n",
    "\n",
    "We want to create a python wrapper around FFMPEG to start / stop recording, and also return a time index on demand"
   ]
  },
  {
   "cell_type": "code",
   "execution_count": 106,
   "metadata": {
    "colab": {
     "autoexec": {
      "startup": false,
      "wait_interval": 0.0
     }
    },
    "colab_type": "code",
    "id": "Jm1o_hXPEYOX"
   },
   "outputs": [],
   "source": [
    "import json\n",
    "import os\n",
    "from subprocess import Popen, PIPE\n",
    "import pprint as pp\n",
    "\n",
    "class record_video:\n",
    "    def run_video(self):\n",
    "        outfile = 'awesome_talk.ts'\n",
    "\n",
    "        # This uses loaded json params to start an ffmpeg process\n",
    "        ffmpeg_params = ['ffmpeg',    \n",
    "                         '-f', self.av['video_format'],\n",
    "                         '-framerate', self.av['framerate'],\n",
    "                         '-video_size', self.av['video_size'],\n",
    "                         '-i', self.av['video_device'], \n",
    "                         '-f', self.av['audio_format'],\n",
    "                         '-i', self.av['audio_device'],\n",
    "                         '-vcodec', self.av['video_codec'],\n",
    "                         '-vb', self.av['video_bitrate'],\n",
    "                         '-acodec', self.av['audio_codec'],\n",
    "                         '-vf', 'scale=' + self.av['video_scale'],\n",
    "                         '-ab', self.av['audio_bitrate'],\n",
    "                         '-async', self.av['audio_sync'],\n",
    "                         '-vsync', self.av['video_sync'],\n",
    "                         outfile\n",
    "                        ]\n",
    "        \n",
    "        proc = Popen(ffmpeg_params, stdout=PIPE, stderr=PIPE)\n",
    "        out, err = proc.communicate()\n",
    "        exitcode = proc.returncode\n",
    "        print(\"Popen exitcode = \" + str(exitcode))\n",
    "        print(\"stdout: \" + out.decode(\"utf-8\"))\n",
    "        print(\"stderr: \" + err.decode(\"utf-8\"))\n",
    "            \n",
    "    def stop_video():\n",
    "        # Kill the video (python process)\n",
    "        pass\n",
    "\n",
    "    def _get_video_index():\n",
    "        # get the current video position from the ffmpeg stdout / do a tail\n",
    "        # this is the most recent time stanp in the ffmpeg log\n",
    "        pass\n",
    "\n",
    "    def __init__(self, av_file):\n",
    "        # Read in params from file\n",
    "        self.av_file = av_file\n",
    "    \n",
    "        # params local to an 'equipment config',which relates to an AV setup in a room \n",
    "        with open(av_file) as file:\n",
    "            self.av = json.load(file)\n",
    "\n",
    "        self.run_video()"
   ]
  },
  {
   "cell_type": "code",
   "execution_count": null,
   "metadata": {
    "colab": {
     "autoexec": {
      "startup": false,
      "wait_interval": 0.0
     }
    },
    "colab_type": "code",
    "collapsed": true,
    "id": "wzSBPdiZOAxL"
   },
   "outputs": [],
   "source": [
    "class chop_video:\n",
    "    pass\n",
    "# take a video_index start and stop and chop out the video to a new file\n",
    "\n",
    "# Assuming always have a transport stream input. \n",
    "\n",
    "# We need to chop out at the time given, by finding the I-frame before the time stamp. \n",
    "\n",
    "# Output is an mp4 (transcode)."
   ]
  },
  {
   "cell_type": "markdown",
   "metadata": {},
   "source": [
    "### Test code"
   ]
  },
  {
   "cell_type": "code",
   "execution_count": 107,
   "metadata": {},
   "outputs": [
    {
     "name": "stdout",
     "output_type": "stream",
     "text": [
      "Popen exitcode = 1\n",
      "stdout: \n",
      "stderr: ffmpeg version 3.3.4 Copyright (c) 2000-2017 the FFmpeg developers\n",
      "  built with gcc 7 (GCC)\n",
      "  configuration: --prefix=/usr --bindir=/usr/bin --datadir=/usr/share/ffmpeg --docdir=/usr/share/doc/ffmpeg --incdir=/usr/include/ffmpeg --libdir=/usr/lib64 --mandir=/usr/share/man --arch=x86_64 --optflags='-O2 -g -pipe -Wall -Werror=format-security -Wp,-D_FORTIFY_SOURCE=2 -fexceptions -fstack-protector-strong --param=ssp-buffer-size=4 -grecord-gcc-switches -specs=/usr/lib/rpm/redhat/redhat-hardened-cc1 -m64 -mtune=generic' --extra-ldflags='-Wl,-z,relro -specs=/usr/lib/rpm/redhat/redhat-hardened-ld ' --extra-cflags='-I/usr/include/nvenc ' --enable-libopencore-amrnb --enable-libopencore-amrwb --enable-libvo-amrwbenc --enable-version3 --enable-bzlib --disable-crystalhd --enable-fontconfig --enable-frei0r --enable-gcrypt --enable-gnutls --enable-ladspa --enable-libass --enable-libbluray --enable-libcdio --enable-indev=jack --enable-libfreetype --enable-libfribidi --enable-libgsm --enable-libmp3lame --enable-nvenc --enable-openal --enable-opencl --enable-opengl --enable-libopenjpeg --enable-libopus --enable-libpulse --enable-libschroedinger --enable-libsoxr --enable-libspeex --enable-libtheora --enable-libvorbis --enable-libv4l2 --enable-libvpx --enable-libx264 --enable-libx265 --enable-libxvid --enable-avfilter --enable-avresample --enable-postproc --enable-pthreads --disable-static --enable-shared --enable-gpl --disable-debug --disable-stripping --shlibdir=/usr/lib64 --enable-libmfx --enable-runtime-cpudetect\n",
      "  libavutil      55. 58.100 / 55. 58.100\n",
      "  libavcodec     57. 89.100 / 57. 89.100\n",
      "  libavformat    57. 71.100 / 57. 71.100\n",
      "  libavdevice    57.  6.100 / 57.  6.100\n",
      "  libavfilter     6. 82.100 /  6. 82.100\n",
      "  libavresample   3.  5.  0 /  3.  5.  0\n",
      "  libswscale      4.  6.100 /  4.  6.100\n",
      "  libswresample   2.  7.100 /  2.  7.100\n",
      "  libpostproc    54.  5.100 / 54.  5.100\n",
      "[video4linux2,v4l2 @ 0x564158e393a0] Cannot open video device /dev/video1: No such file or directory\n",
      "/dev/video1: No such file or directory\n",
      "\n"
     ]
    },
    {
     "data": {
      "text/plain": [
       "<__main__.record_video at 0x7f75a00f4c50>"
      ]
     },
     "execution_count": 107,
     "metadata": {},
     "output_type": "execute_result"
    }
   ],
   "source": [
    "record_video('av_config.json')"
   ]
  },
  {
   "cell_type": "code",
   "execution_count": null,
   "metadata": {
    "collapsed": true
   },
   "outputs": [],
   "source": []
  }
 ],
 "metadata": {
  "colab": {
   "collapsed_sections": [],
   "default_view": {},
   "name": "FFMPEG_wrapper.ipynb",
   "provenance": [],
   "version": "0.3.2",
   "views": {}
  },
  "kernelspec": {
   "display_name": "Python 3",
   "language": "python",
   "name": "python3"
  },
  "language_info": {
   "codemirror_mode": {
    "name": "ipython",
    "version": 3
   },
   "file_extension": ".py",
   "mimetype": "text/x-python",
   "name": "python",
   "nbconvert_exporter": "python",
   "pygments_lexer": "ipython3",
   "version": "3.6.2"
  }
 },
 "nbformat": 4,
 "nbformat_minor": 1
}
