{
 "cells": [
  {
   "cell_type": "markdown",
   "metadata": {
    "colab_type": "text",
    "id": "DTvjd1xoErCa"
   },
   "source": [
    "We want to create a python wrapper around FFMPEG to start / stop recording and change some attributes.  "
   ]
  },
  {
   "cell_type": "code",
   "execution_count": 6,
   "metadata": {
    "colab": {
     "autoexec": {
      "startup": false,
      "wait_interval": 0
     }
    },
    "colab_type": "code",
    "id": "Jm1o_hXPEYOX"
   },
   "outputs": [],
   "source": [
    "class record_video:\n",
    "    def run_video(self):\n",
    "        outfile = '~/awesome_talk.vid'\n",
    "        # This uses all the current params to start an ffmpeg process\n",
    "        ffmpeg_params = ['ffmpeg',\n",
    "                         '-f', self.av['video_format'],\n",
    "                         '-framerate', self.av['framerate'],\n",
    "                         '-video_size', self.av['video_size'],\n",
    "                         '-i', self.av['video_device'], \n",
    "                         '-f', self.av['audio_format'],\n",
    "                         '-i', self.av['audio_device'],\n",
    "                         '-vcodec', self.av['video_codec'],\n",
    "                         '-vb', self.av['video_bitrate'],\n",
    "                         '-acodec', self.av['audio_codec'],\n",
    "                         '-vf', 'scale=' + self.av['video_scale'],\n",
    "                         '-ab', self.av['audio_bitrate'],\n",
    "                         '-async', self.av['audio_sync'],\n",
    "                         '-vsync', self.av['video_sync'],\n",
    "                         outfile\n",
    "                        ]\n",
    "        \n",
    "        # TODO - errors due to incorrect ffmpeg parmeters?\n",
    "        print(subprocess.check_output(ffmpeg_params, stderr=subprocess.STDOUT))\n",
    "    \n",
    "    def stop_video():\n",
    "        # Kill the video (python process)\n",
    "        pass\n",
    "\n",
    "    def _get_video_index():\n",
    "        # get the current video position from the ffmpeg stdout / do a tail\n",
    "        # this is the most recent time stanp in the ffmpeg log\n",
    "        pass\n",
    "\n",
    "    def __init__(self, av_file):\n",
    "        # Read in params from file\n",
    "        self.av_file = av_file\n",
    "    \n",
    "        # params local to an 'equipment config',which relates to an AV setup in a room \n",
    "        with open(av_file) as file:\n",
    "            self.av = json.load(file)\n",
    "\n",
    "        self.run_video()\n",
    "    "
   ]
  },
  {
   "cell_type": "code",
   "execution_count": null,
   "metadata": {
    "colab": {
     "autoexec": {
      "startup": false,
      "wait_interval": 0
     }
    },
    "colab_type": "code",
    "id": "wzSBPdiZOAxL"
   },
   "outputs": [],
   "source": [
    "class chop_video:\n",
    "    pass\n",
    "# take a video_index start and stop and chop out the video to a new file\n",
    "\n",
    "# Assuming always have a transport stream input. \n",
    "\n",
    "# We need to chop out at the time given, by finding the I-frame before the time stamp. \n",
    "\n",
    "# Output is an mp4 (transcode)."
   ]
  },
  {
   "cell_type": "markdown",
   "metadata": {},
   "source": [
    "### Test code"
   ]
  },
  {
   "cell_type": "code",
   "execution_count": 7,
   "metadata": {},
   "outputs": [
    {
     "ename": "CalledProcessError",
     "evalue": "Command '['ffmpeg', '-f', 'v4l2', '-framerate', '25', '-video_size', '720x576', '-i', '/dev/video1', '-f', 'pulse', '-i', 'default', '-vcodec', 'h264', '-vb', '2000k', '-acodec', 'libmp3lame', '-vf', 'scale=1024x576', '-ab', '256k', '-async', '1', '-vsync', '1', '~/awesome_talk.vid']' returned non-zero exit status 1.",
     "output_type": "error",
     "traceback": [
      "\u001b[0;31m---------------------------------------------------------------------------\u001b[0m",
      "\u001b[0;31mCalledProcessError\u001b[0m                        Traceback (most recent call last)",
      "\u001b[0;32m<ipython-input-7-6e38a567b3d3>\u001b[0m in \u001b[0;36m<module>\u001b[0;34m()\u001b[0m\n\u001b[1;32m      2\u001b[0m \u001b[0;32mimport\u001b[0m \u001b[0msubprocess\u001b[0m\u001b[0;34m\u001b[0m\u001b[0m\n\u001b[1;32m      3\u001b[0m \u001b[0;34m\u001b[0m\u001b[0m\n\u001b[0;32m----> 4\u001b[0;31m \u001b[0mrecord_video\u001b[0m\u001b[0;34m(\u001b[0m\u001b[0;34m'av_config.json'\u001b[0m\u001b[0;34m)\u001b[0m\u001b[0;34m\u001b[0m\u001b[0m\n\u001b[0m",
      "\u001b[0;32m<ipython-input-6-40bd1cdaa3ef>\u001b[0m in \u001b[0;36m__init__\u001b[0;34m(self, av_file)\u001b[0m\n\u001b[1;32m     40\u001b[0m             \u001b[0mself\u001b[0m\u001b[0;34m.\u001b[0m\u001b[0mav\u001b[0m \u001b[0;34m=\u001b[0m \u001b[0mjson\u001b[0m\u001b[0;34m.\u001b[0m\u001b[0mload\u001b[0m\u001b[0;34m(\u001b[0m\u001b[0mfile\u001b[0m\u001b[0;34m)\u001b[0m\u001b[0;34m\u001b[0m\u001b[0m\n\u001b[1;32m     41\u001b[0m \u001b[0;34m\u001b[0m\u001b[0m\n\u001b[0;32m---> 42\u001b[0;31m         \u001b[0mself\u001b[0m\u001b[0;34m.\u001b[0m\u001b[0mrun_video\u001b[0m\u001b[0;34m(\u001b[0m\u001b[0;34m)\u001b[0m\u001b[0;34m\u001b[0m\u001b[0m\n\u001b[0m\u001b[1;32m     43\u001b[0m \u001b[0;34m\u001b[0m\u001b[0m\n",
      "\u001b[0;32m<ipython-input-6-40bd1cdaa3ef>\u001b[0m in \u001b[0;36mrun_video\u001b[0;34m(self)\u001b[0m\n\u001b[1;32m     21\u001b[0m \u001b[0;34m\u001b[0m\u001b[0m\n\u001b[1;32m     22\u001b[0m         \u001b[0;31m# TODO - errors due to incorrect ffmpeg parmeters?\u001b[0m\u001b[0;34m\u001b[0m\u001b[0;34m\u001b[0m\u001b[0m\n\u001b[0;32m---> 23\u001b[0;31m         \u001b[0mprint\u001b[0m\u001b[0;34m(\u001b[0m\u001b[0msubprocess\u001b[0m\u001b[0;34m.\u001b[0m\u001b[0mcheck_output\u001b[0m\u001b[0;34m(\u001b[0m\u001b[0mffmpeg_params\u001b[0m\u001b[0;34m,\u001b[0m \u001b[0mstderr\u001b[0m\u001b[0;34m=\u001b[0m\u001b[0msubprocess\u001b[0m\u001b[0;34m.\u001b[0m\u001b[0mSTDOUT\u001b[0m\u001b[0;34m)\u001b[0m\u001b[0;34m)\u001b[0m\u001b[0;34m\u001b[0m\u001b[0m\n\u001b[0m\u001b[1;32m     24\u001b[0m \u001b[0;34m\u001b[0m\u001b[0m\n\u001b[1;32m     25\u001b[0m     \u001b[0;32mdef\u001b[0m \u001b[0mstop_video\u001b[0m\u001b[0;34m(\u001b[0m\u001b[0;34m)\u001b[0m\u001b[0;34m:\u001b[0m\u001b[0;34m\u001b[0m\u001b[0m\n",
      "\u001b[0;32m~/jupyter-notebooks/lib/python3.6/subprocess.py\u001b[0m in \u001b[0;36mcheck_output\u001b[0;34m(timeout, *popenargs, **kwargs)\u001b[0m\n\u001b[1;32m    334\u001b[0m \u001b[0;34m\u001b[0m\u001b[0m\n\u001b[1;32m    335\u001b[0m     return run(*popenargs, stdout=PIPE, timeout=timeout, check=True,\n\u001b[0;32m--> 336\u001b[0;31m                **kwargs).stdout\n\u001b[0m\u001b[1;32m    337\u001b[0m \u001b[0;34m\u001b[0m\u001b[0m\n\u001b[1;32m    338\u001b[0m \u001b[0;34m\u001b[0m\u001b[0m\n",
      "\u001b[0;32m~/jupyter-notebooks/lib/python3.6/subprocess.py\u001b[0m in \u001b[0;36mrun\u001b[0;34m(input, timeout, check, *popenargs, **kwargs)\u001b[0m\n\u001b[1;32m    416\u001b[0m         \u001b[0;32mif\u001b[0m \u001b[0mcheck\u001b[0m \u001b[0;32mand\u001b[0m \u001b[0mretcode\u001b[0m\u001b[0;34m:\u001b[0m\u001b[0;34m\u001b[0m\u001b[0m\n\u001b[1;32m    417\u001b[0m             raise CalledProcessError(retcode, process.args,\n\u001b[0;32m--> 418\u001b[0;31m                                      output=stdout, stderr=stderr)\n\u001b[0m\u001b[1;32m    419\u001b[0m     \u001b[0;32mreturn\u001b[0m \u001b[0mCompletedProcess\u001b[0m\u001b[0;34m(\u001b[0m\u001b[0mprocess\u001b[0m\u001b[0;34m.\u001b[0m\u001b[0margs\u001b[0m\u001b[0;34m,\u001b[0m \u001b[0mretcode\u001b[0m\u001b[0;34m,\u001b[0m \u001b[0mstdout\u001b[0m\u001b[0;34m,\u001b[0m \u001b[0mstderr\u001b[0m\u001b[0;34m)\u001b[0m\u001b[0;34m\u001b[0m\u001b[0m\n\u001b[1;32m    420\u001b[0m \u001b[0;34m\u001b[0m\u001b[0m\n",
      "\u001b[0;31mCalledProcessError\u001b[0m: Command '['ffmpeg', '-f', 'v4l2', '-framerate', '25', '-video_size', '720x576', '-i', '/dev/video1', '-f', 'pulse', '-i', 'default', '-vcodec', 'h264', '-vb', '2000k', '-acodec', 'libmp3lame', '-vf', 'scale=1024x576', '-ab', '256k', '-async', '1', '-vsync', '1', '~/awesome_talk.vid']' returned non-zero exit status 1."
     ]
    }
   ],
   "source": [
    "import json\n",
    "import subprocess\n",
    "\n",
    "record_video('av_config.json')"
   ]
  },
  {
   "cell_type": "code",
   "execution_count": null,
   "metadata": {
    "collapsed": true
   },
   "outputs": [],
   "source": []
  }
 ],
 "metadata": {
  "colab": {
   "collapsed_sections": [],
   "default_view": {},
   "name": "FFMPEG_wrapper.ipynb",
   "provenance": [],
   "version": "0.3.2",
   "views": {}
  },
  "kernelspec": {
   "display_name": "Python 3",
   "language": "python",
   "name": "python3"
  },
  "language_info": {
   "codemirror_mode": {
    "name": "ipython",
    "version": 3
   },
   "file_extension": ".py",
   "mimetype": "text/x-python",
   "name": "python",
   "nbconvert_exporter": "python",
   "pygments_lexer": "ipython3",
   "version": "3.6.2"
  }
 },
 "nbformat": 4,
 "nbformat_minor": 1
}
