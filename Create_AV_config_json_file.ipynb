{
 "cells": [
  {
   "cell_type": "markdown",
   "metadata": {},
   "source": [
    "Let's use a set of FFMPEG params and encode them in a standardised format json file"
   ]
  },
  {
   "cell_type": "code",
   "execution_count": 4,
   "metadata": {},
   "outputs": [],
   "source": [
    "import json\n",
    "import io\n",
    "\n",
    "av_config = { 'video_format'  : 'v4l2',\n",
    "              'framerate'     : '25',\n",
    "              'video_size'    : '720x576',\n",
    "              'video_codec'   : 'h264',\n",
    "              'video_bitrate' : '2000k',\n",
    "              'video_scale'   : '1024x576',\n",
    "              'video_sync'    : '1',\n",
    "              'video_device'  : '/dev/video1',\n",
    "              'audio_format'  : 'pulse',\n",
    "              'audio_codec'   : 'libmp3lame',\n",
    "              'audio_bitrate' : '256k',\n",
    "              'audio_sync'    : '1',\n",
    "              'audio_device'  : 'default'\n",
    "            }\n",
    "\n",
    "with io.open('av_config.json', 'w') as file:\n",
    "    json.dump(av_config, file)"
   ]
  },
  {
   "cell_type": "code",
   "execution_count": null,
   "metadata": {
    "collapsed": true
   },
   "outputs": [],
   "source": []
  }
 ],
 "metadata": {
  "kernelspec": {
   "display_name": "Python 3",
   "language": "python",
   "name": "python3"
  },
  "language_info": {
   "codemirror_mode": {
    "name": "ipython",
    "version": 3
   },
   "file_extension": ".py",
   "mimetype": "text/x-python",
   "name": "python",
   "nbconvert_exporter": "python",
   "pygments_lexer": "ipython3",
   "version": "3.6.2"
  }
 },
 "nbformat": 4,
 "nbformat_minor": 2
}
